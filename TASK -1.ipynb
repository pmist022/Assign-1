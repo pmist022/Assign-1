{
 "cells": [
  {
   "cell_type": "code",
   "execution_count": 1,
   "id": "dafdc89a",
   "metadata": {},
   "outputs": [],
   "source": [
    "import cv2\n",
    "import numpy as np"
   ]
  },
  {
   "cell_type": "code",
   "execution_count": 16,
   "id": "55d66580",
   "metadata": {},
   "outputs": [
    {
     "name": "stdout",
     "output_type": "stream",
     "text": [
      "(148, 192, 3)\n",
      "148\n",
      "192\n"
     ]
    }
   ],
   "source": [
    "image = cv2.imread(\"C:\\\\Users\\\\aedpu\\\\OneDrive\\\\Desktop\\\\moon1.jpg\")\n",
    "shp=image.shape\n",
    "print(shp)\n",
    "height,width=image.shape[:2]\n",
    "print(height)\n",
    "print(width)"
   ]
  },
  {
   "cell_type": "code",
   "execution_count": 3,
   "id": "c22951a2",
   "metadata": {},
   "outputs": [],
   "source": [
    "image1 = cv2.resize(image,(800,800))"
   ]
  },
  {
   "cell_type": "code",
   "execution_count": 4,
   "id": "466cfad7",
   "metadata": {},
   "outputs": [],
   "source": [
    "nature2 = cv2.imread(\"C:\\\\Users\\\\aedpu\\\\OneDrive\\\\Desktop\\\\nature2.jpg\")"
   ]
  },
  {
   "cell_type": "code",
   "execution_count": 6,
   "id": "6f697c33",
   "metadata": {},
   "outputs": [],
   "source": [
    "nature2= cv2.resize(nature2,(800,800))"
   ]
  },
  {
   "cell_type": "code",
   "execution_count": 7,
   "id": "16caf2b6",
   "metadata": {},
   "outputs": [],
   "source": [
    "imAdd= cv2.addWeighted(image1,0.8,nature2,0.3,30)\n",
    "cv2.imshow('imAdd',imAdd)\n",
    "cv2.waitKey(0)\n",
    "cv2.destroyAllWindows()"
   ]
  },
  {
   "cell_type": "markdown",
   "id": "9b5d5672",
   "metadata": {},
   "source": [
    "# Bitwise operation"
   ]
  },
  {
   "cell_type": "code",
   "execution_count": 9,
   "id": "19b5b4f1",
   "metadata": {},
   "outputs": [],
   "source": [
    "bitwise_or = cv2.bitwise_or(nature2,image1,mask = None)"
   ]
  },
  {
   "cell_type": "code",
   "execution_count": 10,
   "id": "34b59132",
   "metadata": {},
   "outputs": [],
   "source": [
    "bitwise_and = cv2.bitwise_and(image1,nature2,mask = None)"
   ]
  },
  {
   "cell_type": "code",
   "execution_count": 11,
   "id": "a85226bf",
   "metadata": {},
   "outputs": [],
   "source": [
    "bitwise_xor = cv2.bitwise_xor(image1,nature2,mask = None)"
   ]
  },
  {
   "cell_type": "code",
   "execution_count": 12,
   "id": "833cf58c",
   "metadata": {},
   "outputs": [],
   "source": [
    "cv2.imshow(\"image1\",nature2)\n",
    "cv2.imshow(\"image2\",nature2)\n",
    "cv2.imshow(\"bitwise and\" ,bitwise_and)\n",
    "cv2.imshow(\"bitwise or\" ,bitwise_or)\n",
    "cv2.imshow(\"bitwise xor\", bitwise_xor)\n",
    "\n",
    "cv2.waitKey(0)\n",
    "cv2.destroyAllWindows()"
   ]
  },
  {
   "cell_type": "markdown",
   "id": "81d123a1",
   "metadata": {},
   "source": [
    "# Rotation"
   ]
  },
  {
   "cell_type": "code",
   "execution_count": 13,
   "id": "f8e9816d",
   "metadata": {},
   "outputs": [
    {
     "name": "stdout",
     "output_type": "stream",
     "text": [
      "(37.0, 48.0)\n"
     ]
    }
   ],
   "source": [
    "center = (height/4,width/4)\n",
    "print(center)"
   ]
  },
  {
   "cell_type": "code",
   "execution_count": 14,
   "id": "bf507bf6",
   "metadata": {},
   "outputs": [
    {
     "name": "stdout",
     "output_type": "stream",
     "text": [
      "[[  0.8660254    0.5        -19.04293994]\n",
      " [ -0.5          0.8660254   24.93078062]]\n"
     ]
    }
   ],
   "source": [
    "rotate_matrix = cv2.getRotationMatrix2D(center=center, angle=30, scale=1.0)\n",
    "print(rotate_matrix)"
   ]
  },
  {
   "cell_type": "code",
   "execution_count": 15,
   "id": "55f30bb5",
   "metadata": {},
   "outputs": [],
   "source": [
    "rotated_image = cv2.warpAffine(src=nature2, M=rotate_matrix, dsize=(500,500))\n",
    "cv2.imshow('Original_image',nature2)\n",
    "cv2.waitKey(0)\n",
    "cv2.imshow('Rotate_image',rotated_image)\n",
    "cv2.waitKey(0)\n",
    "cv2.destroyAllWindows()\n"
   ]
  },
  {
   "cell_type": "code",
   "execution_count": null,
   "id": "2ceefc77",
   "metadata": {},
   "outputs": [],
   "source": []
  },
  {
   "cell_type": "code",
   "execution_count": null,
   "id": "f3a9d2d8",
   "metadata": {},
   "outputs": [],
   "source": []
  },
  {
   "cell_type": "code",
   "execution_count": null,
   "id": "cf1f5027",
   "metadata": {},
   "outputs": [],
   "source": []
  },
  {
   "cell_type": "code",
   "execution_count": null,
   "id": "8ec8c593",
   "metadata": {},
   "outputs": [],
   "source": []
  },
  {
   "cell_type": "code",
   "execution_count": null,
   "id": "2955d3bb",
   "metadata": {},
   "outputs": [],
   "source": []
  },
  {
   "cell_type": "code",
   "execution_count": null,
   "id": "fd7f68f7",
   "metadata": {},
   "outputs": [],
   "source": []
  },
  {
   "cell_type": "code",
   "execution_count": null,
   "id": "17fadab1",
   "metadata": {},
   "outputs": [],
   "source": []
  },
  {
   "cell_type": "code",
   "execution_count": null,
   "id": "bd602c34",
   "metadata": {},
   "outputs": [],
   "source": []
  },
  {
   "cell_type": "code",
   "execution_count": null,
   "id": "2e477f78",
   "metadata": {},
   "outputs": [],
   "source": []
  },
  {
   "cell_type": "code",
   "execution_count": null,
   "id": "dc7da7f1",
   "metadata": {},
   "outputs": [],
   "source": []
  },
  {
   "cell_type": "code",
   "execution_count": null,
   "id": "9ac6a68b",
   "metadata": {},
   "outputs": [],
   "source": []
  }
 ],
 "metadata": {
  "kernelspec": {
   "display_name": "Python 3 (ipykernel)",
   "language": "python",
   "name": "python3"
  },
  "language_info": {
   "codemirror_mode": {
    "name": "ipython",
    "version": 3
   },
   "file_extension": ".py",
   "mimetype": "text/x-python",
   "name": "python",
   "nbconvert_exporter": "python",
   "pygments_lexer": "ipython3",
   "version": "3.9.13"
  }
 },
 "nbformat": 4,
 "nbformat_minor": 5
}
